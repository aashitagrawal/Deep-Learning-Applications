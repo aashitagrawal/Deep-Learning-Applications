{
  "nbformat": 4,
  "nbformat_minor": 0,
  "metadata": {
    "colab": {
      "provenance": [],
      "gpuType": "T4"
    },
    "kernelspec": {
      "name": "python3",
      "display_name": "Python 3"
    },
    "language_info": {
      "name": "python"
    },
    "accelerator": "GPU"
  },
  "cells": [
    {
      "cell_type": "markdown",
      "source": [
        "# Today's Date -  17 July 2023"
      ],
      "metadata": {
        "id": "0yjHaH2bzcZs"
      }
    },
    {
      "cell_type": "markdown",
      "source": [
        "#Importing dataset from Kaggle"
      ],
      "metadata": {
        "id": "5NpRWMfbzlJe"
      }
    },
    {
      "cell_type": "code",
      "execution_count": 2,
      "metadata": {
        "id": "0wsyDF2wymGz"
      },
      "outputs": [],
      "source": [
        "!mkdir -p ~/.kaggle\n",
        "!cp kaggle.json ~/.kaggle/"
      ]
    },
    {
      "cell_type": "code",
      "source": [
        "!kaggle datasets download -d msambare/fer2013"
      ],
      "metadata": {
        "colab": {
          "base_uri": "https://localhost:8080/"
        },
        "id": "Ii9X-p7SzFja",
        "outputId": "6c0e58b8-892b-435b-b5ec-147ac9c8b62e"
      },
      "execution_count": 3,
      "outputs": [
        {
          "output_type": "stream",
          "name": "stdout",
          "text": [
            "Warning: Your Kaggle API key is readable by other users on this system! To fix this, you can run 'chmod 600 /root/.kaggle/kaggle.json'\n",
            "Downloading fer2013.zip to /content\n",
            " 96% 58.0M/60.3M [00:03<00:00, 24.7MB/s]\n",
            "100% 60.3M/60.3M [00:03<00:00, 17.9MB/s]\n"
          ]
        }
      ]
    },
    {
      "cell_type": "code",
      "source": [
        "import zipfile\n",
        "zip_path = '/content/fer2013.zip'\n",
        "with zipfile.ZipFile(zip_path, 'r') as zip_ref:\n",
        "    zip_ref.extractall('/content/')"
      ],
      "metadata": {
        "id": "s0-zRtY2zTdV"
      },
      "execution_count": 4,
      "outputs": []
    },
    {
      "cell_type": "markdown",
      "source": [
        "#Importing Libraries"
      ],
      "metadata": {
        "id": "7_JvjqvJ0JxE"
      }
    },
    {
      "cell_type": "code",
      "source": [
        "import cv2\n",
        "import numpy as np\n",
        "import pandas as pd\n",
        "import os\n",
        "import matplotlib.pyplot as plt\n",
        "import seaborn as sns\n",
        "import tensorflow as tf\n",
        "import keras\n",
        "from keras import regularizers\n",
        "from tensorflow.keras.preprocessing.image import ImageDataGenerator, array_to_img, img_to_array, load_img\n",
        "from keras.models import Sequential, load_model, Model\n",
        "from keras.layers import Conv2D, MaxPool2D, Flatten,Dense,Dropout,BatchNormalization\n",
        "from keras.applications import VGG16, InceptionResNetV2\n",
        "from keras.optimizers import Adam,RMSprop,SGD,Adamax"
      ],
      "metadata": {
        "id": "noZ1Y5oq0A31"
      },
      "execution_count": 9,
      "outputs": []
    },
    {
      "cell_type": "markdown",
      "source": [
        "#Preparing the data"
      ],
      "metadata": {
        "id": "LFjVuV6t4IQZ"
      }
    },
    {
      "cell_type": "code",
      "source": [
        "train_dir = '/content/train'\n",
        "test_dir = '/content/test'\n",
        "img_size = 48"
      ],
      "metadata": {
        "id": "1SpCBpIy3YoV"
      },
      "execution_count": 12,
      "outputs": []
    },
    {
      "cell_type": "code",
      "source": [
        "train_datagen = ImageDataGenerator(width_shift_range = 0.1,\n",
        "                                   height_shift_range = 0.1,\n",
        "                                   horizontal_flip = True,\n",
        "                                   rescale = 1./255,\n",
        "                                   validation_split = 0.2)\n",
        "validation_datagen = ImageDataGenerator(rescale = 1./255,\n",
        "                                        validation_split = 0.2)"
      ],
      "metadata": {
        "id": "4udA85h24LK7"
      },
      "execution_count": 10,
      "outputs": []
    },
    {
      "cell_type": "code",
      "source": [
        "train_generator = train_datagen.flow_from_directory(directory = train_dir,\n",
        "                                                    target_size = (img_size,img_size),\n",
        "                                                    batch_size = 64,\n",
        "                                                    color_mode = \"grayscale\",\n",
        "                                                    class_mode = \"categorical\",\n",
        "                                                    subset = \"training\")\n",
        "validation_generator = validation_datagen.flow_from_directory( directory = test_dir,\n",
        "                                                              target_size = (img_size,img_size),\n",
        "                                                              batch_size = 64,\n",
        "                                                              color_mode = \"grayscale\",\n",
        "                                                              class_mode = \"categorical\",\n",
        "                                                              subset = \"validation\")"
      ],
      "metadata": {
        "colab": {
          "base_uri": "https://localhost:8080/"
        },
        "id": "UPY0Z0lN4VxN",
        "outputId": "3f470c89-dc45-483b-b443-78a193851533"
      },
      "execution_count": 13,
      "outputs": [
        {
          "output_type": "stream",
          "name": "stdout",
          "text": [
            "Found 22968 images belonging to 7 classes.\n",
            "Found 1432 images belonging to 7 classes.\n"
          ]
        }
      ]
    },
    {
      "cell_type": "markdown",
      "source": [
        "#Model Architecture"
      ],
      "metadata": {
        "id": "ZxciV6IX5Pmd"
      }
    },
    {
      "cell_type": "code",
      "source": [
        "model= Sequential()\n",
        "\n",
        "model.add(Conv2D(32, kernel_size=(3, 3), padding='same', activation='relu', input_shape=(48,48,1)))\n",
        "model.add(Conv2D(64,(3,3), padding='same', activation='relu' ))\n",
        "model.add(BatchNormalization())\n",
        "model.add(MaxPool2D(pool_size=(2, 2)))\n",
        "model.add(Dropout(0.25))\n",
        "\n",
        "model.add(Conv2D(128,(5,5), padding='same', activation='relu'))\n",
        "model.add(BatchNormalization())\n",
        "model.add(MaxPool2D(pool_size=(2, 2)))\n",
        "model.add(Dropout(0.25))\n",
        "\n",
        "model.add(Conv2D(512,(3,3), padding='same', activation='relu', kernel_regularizer=regularizers.l2(0.01)))\n",
        "model.add(BatchNormalization())\n",
        "model.add(MaxPool2D(pool_size=(2, 2)))\n",
        "model.add(Dropout(0.25))\n",
        "\n",
        "model.add(Conv2D(512,(3,3), padding='same', activation='relu', kernel_regularizer=regularizers.l2(0.01)))\n",
        "model.add(BatchNormalization())\n",
        "model.add(MaxPool2D(pool_size=(2, 2)))\n",
        "model.add(Dropout(0.25))\n",
        "\n",
        "model.add(Flatten())\n",
        "\n",
        "model.add(Dense(256,activation = 'relu'))\n",
        "model.add(BatchNormalization())\n",
        "model.add(Dropout(0.25))\n",
        "\n",
        "model.add(Dense(512,activation = 'relu'))\n",
        "model.add(BatchNormalization())\n",
        "model.add(Dropout(0.25))\n",
        "\n",
        "model.add(Dense(7, activation='softmax'))"
      ],
      "metadata": {
        "id": "zKFLFtPHI98V"
      },
      "execution_count": 14,
      "outputs": []
    },
    {
      "cell_type": "code",
      "source": [
        "model.summary()"
      ],
      "metadata": {
        "colab": {
          "base_uri": "https://localhost:8080/"
        },
        "id": "4sAHDT6F5m-K",
        "outputId": "f429b925-b65c-4e12-da57-43a86faa6a66"
      },
      "execution_count": 17,
      "outputs": [
        {
          "output_type": "stream",
          "name": "stdout",
          "text": [
            "Model: \"sequential\"\n",
            "_________________________________________________________________\n",
            " Layer (type)                Output Shape              Param #   \n",
            "=================================================================\n",
            " conv2d (Conv2D)             (None, 48, 48, 32)        320       \n",
            "                                                                 \n",
            " conv2d_1 (Conv2D)           (None, 48, 48, 64)        18496     \n",
            "                                                                 \n",
            " batch_normalization (BatchN  (None, 48, 48, 64)       256       \n",
            " ormalization)                                                   \n",
            "                                                                 \n",
            " max_pooling2d (MaxPooling2D  (None, 24, 24, 64)       0         \n",
            " )                                                               \n",
            "                                                                 \n",
            " dropout (Dropout)           (None, 24, 24, 64)        0         \n",
            "                                                                 \n",
            " conv2d_2 (Conv2D)           (None, 24, 24, 128)       204928    \n",
            "                                                                 \n",
            " batch_normalization_1 (Batc  (None, 24, 24, 128)      512       \n",
            " hNormalization)                                                 \n",
            "                                                                 \n",
            " max_pooling2d_1 (MaxPooling  (None, 12, 12, 128)      0         \n",
            " 2D)                                                             \n",
            "                                                                 \n",
            " dropout_1 (Dropout)         (None, 12, 12, 128)       0         \n",
            "                                                                 \n",
            " conv2d_3 (Conv2D)           (None, 12, 12, 512)       590336    \n",
            "                                                                 \n",
            " batch_normalization_2 (Batc  (None, 12, 12, 512)      2048      \n",
            " hNormalization)                                                 \n",
            "                                                                 \n",
            " max_pooling2d_2 (MaxPooling  (None, 6, 6, 512)        0         \n",
            " 2D)                                                             \n",
            "                                                                 \n",
            " dropout_2 (Dropout)         (None, 6, 6, 512)         0         \n",
            "                                                                 \n",
            " conv2d_4 (Conv2D)           (None, 6, 6, 512)         2359808   \n",
            "                                                                 \n",
            " batch_normalization_3 (Batc  (None, 6, 6, 512)        2048      \n",
            " hNormalization)                                                 \n",
            "                                                                 \n",
            " max_pooling2d_3 (MaxPooling  (None, 3, 3, 512)        0         \n",
            " 2D)                                                             \n",
            "                                                                 \n",
            " dropout_3 (Dropout)         (None, 3, 3, 512)         0         \n",
            "                                                                 \n",
            " flatten (Flatten)           (None, 4608)              0         \n",
            "                                                                 \n",
            " dense (Dense)               (None, 256)               1179904   \n",
            "                                                                 \n",
            " batch_normalization_4 (Batc  (None, 256)              1024      \n",
            " hNormalization)                                                 \n",
            "                                                                 \n",
            " dropout_4 (Dropout)         (None, 256)               0         \n",
            "                                                                 \n",
            " dense_1 (Dense)             (None, 512)               131584    \n",
            "                                                                 \n",
            " batch_normalization_5 (Batc  (None, 512)              2048      \n",
            " hNormalization)                                                 \n",
            "                                                                 \n",
            " dropout_5 (Dropout)         (None, 512)               0         \n",
            "                                                                 \n",
            " dense_2 (Dense)             (None, 7)                 3591      \n",
            "                                                                 \n",
            "=================================================================\n",
            "Total params: 4,496,903\n",
            "Trainable params: 4,492,935\n",
            "Non-trainable params: 3,968\n",
            "_________________________________________________________________\n"
          ]
        }
      ]
    },
    {
      "cell_type": "code",
      "source": [
        "model.compile(optimizer = Adam(learning_rate=0.0001), loss='categorical_crossentropy', metrics=['accuracy'])"
      ],
      "metadata": {
        "id": "yjGSyomI5Z4M"
      },
      "execution_count": 16,
      "outputs": []
    },
    {
      "cell_type": "code",
      "source": [
        "history = model.fit(x=train_generator, epochs=70, validation_data=validation_generator)"
      ],
      "metadata": {
        "colab": {
          "base_uri": "https://localhost:8080/"
        },
        "id": "QnWUk9lQ57Yd",
        "outputId": "6502c0c2-d4b9-4f5a-c32e-9bf6fa2da129"
      },
      "execution_count": 18,
      "outputs": [
        {
          "output_type": "stream",
          "name": "stdout",
          "text": [
            "Epoch 1/70\n",
            "359/359 [==============================] - 36s 68ms/step - loss: 9.2977 - accuracy: 0.1940 - val_loss: 8.9326 - val_accuracy: 0.2514\n",
            "Epoch 2/70\n",
            "359/359 [==============================] - 23s 63ms/step - loss: 8.2894 - accuracy: 0.2355 - val_loss: 7.6760 - val_accuracy: 0.2772\n",
            "Epoch 3/70\n",
            "359/359 [==============================] - 22s 61ms/step - loss: 7.2946 - accuracy: 0.2722 - val_loss: 6.6125 - val_accuracy: 0.3122\n",
            "Epoch 4/70\n",
            "359/359 [==============================] - 22s 62ms/step - loss: 6.3538 - accuracy: 0.2910 - val_loss: 5.7345 - val_accuracy: 0.3527\n",
            "Epoch 5/70\n",
            "359/359 [==============================] - 23s 63ms/step - loss: 5.4905 - accuracy: 0.3158 - val_loss: 4.9161 - val_accuracy: 0.3694\n",
            "Epoch 6/70\n",
            "359/359 [==============================] - 22s 60ms/step - loss: 4.7246 - accuracy: 0.3439 - val_loss: 4.3492 - val_accuracy: 0.3827\n",
            "Epoch 7/70\n",
            "359/359 [==============================] - 22s 62ms/step - loss: 4.0950 - accuracy: 0.3724 - val_loss: 3.8686 - val_accuracy: 0.3883\n",
            "Epoch 8/70\n",
            "359/359 [==============================] - 23s 63ms/step - loss: 3.5795 - accuracy: 0.3962 - val_loss: 3.2493 - val_accuracy: 0.4553\n",
            "Epoch 9/70\n",
            "359/359 [==============================] - 23s 64ms/step - loss: 3.1530 - accuracy: 0.4215 - val_loss: 3.5775 - val_accuracy: 0.3338\n",
            "Epoch 10/70\n",
            "359/359 [==============================] - 22s 61ms/step - loss: 2.8298 - accuracy: 0.4427 - val_loss: 2.5866 - val_accuracy: 0.4972\n",
            "Epoch 11/70\n",
            "359/359 [==============================] - 23s 63ms/step - loss: 2.5602 - accuracy: 0.4681 - val_loss: 2.3665 - val_accuracy: 0.5196\n",
            "Epoch 12/70\n",
            "359/359 [==============================] - 23s 63ms/step - loss: 2.3418 - accuracy: 0.4846 - val_loss: 2.0894 - val_accuracy: 0.5580\n",
            "Epoch 13/70\n",
            "359/359 [==============================] - 23s 64ms/step - loss: 2.1759 - accuracy: 0.4985 - val_loss: 1.9665 - val_accuracy: 0.5642\n",
            "Epoch 14/70\n",
            "359/359 [==============================] - 23s 63ms/step - loss: 2.0527 - accuracy: 0.5071 - val_loss: 1.8225 - val_accuracy: 0.5803\n",
            "Epoch 15/70\n",
            "359/359 [==============================] - 23s 63ms/step - loss: 1.9380 - accuracy: 0.5161 - val_loss: 1.7353 - val_accuracy: 0.5768\n",
            "Epoch 16/70\n",
            "359/359 [==============================] - 23s 63ms/step - loss: 1.8312 - accuracy: 0.5310 - val_loss: 1.6543 - val_accuracy: 0.5824\n",
            "Epoch 17/70\n",
            "359/359 [==============================] - 23s 64ms/step - loss: 1.7483 - accuracy: 0.5384 - val_loss: 1.6580 - val_accuracy: 0.5698\n",
            "Epoch 18/70\n",
            "359/359 [==============================] - 22s 61ms/step - loss: 1.6852 - accuracy: 0.5481 - val_loss: 1.5709 - val_accuracy: 0.5950\n",
            "Epoch 19/70\n",
            "359/359 [==============================] - 23s 63ms/step - loss: 1.6460 - accuracy: 0.5527 - val_loss: 1.5121 - val_accuracy: 0.5929\n",
            "Epoch 20/70\n",
            "359/359 [==============================] - 23s 64ms/step - loss: 1.6112 - accuracy: 0.5574 - val_loss: 1.4856 - val_accuracy: 0.6117\n",
            "Epoch 21/70\n",
            "359/359 [==============================] - 23s 63ms/step - loss: 1.5599 - accuracy: 0.5716 - val_loss: 1.4535 - val_accuracy: 0.6215\n",
            "Epoch 22/70\n",
            "359/359 [==============================] - 22s 62ms/step - loss: 1.5319 - accuracy: 0.5768 - val_loss: 1.4260 - val_accuracy: 0.6236\n",
            "Epoch 23/70\n",
            "359/359 [==============================] - 22s 61ms/step - loss: 1.5068 - accuracy: 0.5851 - val_loss: 1.4414 - val_accuracy: 0.6180\n",
            "Epoch 24/70\n",
            "359/359 [==============================] - 22s 62ms/step - loss: 1.4905 - accuracy: 0.5913 - val_loss: 1.4002 - val_accuracy: 0.6285\n",
            "Epoch 25/70\n",
            "359/359 [==============================] - 23s 64ms/step - loss: 1.4797 - accuracy: 0.5886 - val_loss: 1.4485 - val_accuracy: 0.6124\n",
            "Epoch 26/70\n",
            "359/359 [==============================] - 22s 61ms/step - loss: 1.4689 - accuracy: 0.5943 - val_loss: 1.4049 - val_accuracy: 0.6243\n",
            "Epoch 27/70\n",
            "359/359 [==============================] - 23s 63ms/step - loss: 1.4658 - accuracy: 0.5977 - val_loss: 1.4179 - val_accuracy: 0.6201\n",
            "Epoch 28/70\n",
            "359/359 [==============================] - 23s 63ms/step - loss: 1.4422 - accuracy: 0.6035 - val_loss: 1.3567 - val_accuracy: 0.6473\n",
            "Epoch 29/70\n",
            "359/359 [==============================] - 23s 64ms/step - loss: 1.4176 - accuracy: 0.6134 - val_loss: 1.4147 - val_accuracy: 0.6208\n",
            "Epoch 30/70\n",
            "359/359 [==============================] - 23s 63ms/step - loss: 1.4053 - accuracy: 0.6110 - val_loss: 1.3714 - val_accuracy: 0.6376\n",
            "Epoch 31/70\n",
            "359/359 [==============================] - 23s 63ms/step - loss: 1.4015 - accuracy: 0.6164 - val_loss: 1.3380 - val_accuracy: 0.6557\n",
            "Epoch 32/70\n",
            "359/359 [==============================] - 22s 62ms/step - loss: 1.3885 - accuracy: 0.6200 - val_loss: 1.3526 - val_accuracy: 0.6418\n",
            "Epoch 33/70\n",
            "359/359 [==============================] - 23s 63ms/step - loss: 1.3973 - accuracy: 0.6188 - val_loss: 1.5477 - val_accuracy: 0.5880\n",
            "Epoch 34/70\n",
            "359/359 [==============================] - 23s 64ms/step - loss: 1.3870 - accuracy: 0.6259 - val_loss: 1.3518 - val_accuracy: 0.6466\n",
            "Epoch 35/70\n",
            "359/359 [==============================] - 23s 63ms/step - loss: 1.3835 - accuracy: 0.6315 - val_loss: 1.3475 - val_accuracy: 0.6494\n",
            "Epoch 36/70\n",
            "359/359 [==============================] - 23s 64ms/step - loss: 1.3699 - accuracy: 0.6298 - val_loss: 1.3525 - val_accuracy: 0.6550\n",
            "Epoch 37/70\n",
            "359/359 [==============================] - 22s 62ms/step - loss: 1.3649 - accuracy: 0.6355 - val_loss: 1.3762 - val_accuracy: 0.6341\n",
            "Epoch 38/70\n",
            "359/359 [==============================] - 23s 63ms/step - loss: 1.3562 - accuracy: 0.6323 - val_loss: 1.3671 - val_accuracy: 0.6439\n",
            "Epoch 39/70\n",
            "359/359 [==============================] - 22s 62ms/step - loss: 1.3637 - accuracy: 0.6385 - val_loss: 1.3412 - val_accuracy: 0.6641\n",
            "Epoch 40/70\n",
            "359/359 [==============================] - 23s 63ms/step - loss: 1.3568 - accuracy: 0.6412 - val_loss: 1.3705 - val_accuracy: 0.6529\n",
            "Epoch 41/70\n",
            "359/359 [==============================] - 23s 65ms/step - loss: 1.3630 - accuracy: 0.6417 - val_loss: 1.3281 - val_accuracy: 0.6613\n",
            "Epoch 42/70\n",
            "359/359 [==============================] - 22s 61ms/step - loss: 1.3581 - accuracy: 0.6482 - val_loss: 1.3815 - val_accuracy: 0.6383\n",
            "Epoch 43/70\n",
            "359/359 [==============================] - 23s 63ms/step - loss: 1.3608 - accuracy: 0.6473 - val_loss: 1.3429 - val_accuracy: 0.6459\n",
            "Epoch 44/70\n",
            "359/359 [==============================] - 23s 63ms/step - loss: 1.3480 - accuracy: 0.6495 - val_loss: 1.3973 - val_accuracy: 0.6515\n",
            "Epoch 45/70\n",
            "359/359 [==============================] - 23s 63ms/step - loss: 1.3461 - accuracy: 0.6481 - val_loss: 1.3308 - val_accuracy: 0.6620\n",
            "Epoch 46/70\n",
            "359/359 [==============================] - 22s 62ms/step - loss: 1.3401 - accuracy: 0.6541 - val_loss: 1.3700 - val_accuracy: 0.6620\n",
            "Epoch 47/70\n",
            "359/359 [==============================] - 22s 61ms/step - loss: 1.3490 - accuracy: 0.6555 - val_loss: 1.3148 - val_accuracy: 0.6823\n",
            "Epoch 48/70\n",
            "359/359 [==============================] - 23s 63ms/step - loss: 1.3457 - accuracy: 0.6543 - val_loss: 1.3739 - val_accuracy: 0.6606\n",
            "Epoch 49/70\n",
            "359/359 [==============================] - 23s 63ms/step - loss: 1.3391 - accuracy: 0.6569 - val_loss: 1.3415 - val_accuracy: 0.6690\n",
            "Epoch 50/70\n",
            "359/359 [==============================] - 22s 61ms/step - loss: 1.3305 - accuracy: 0.6618 - val_loss: 1.3499 - val_accuracy: 0.6655\n",
            "Epoch 51/70\n",
            "359/359 [==============================] - 23s 63ms/step - loss: 1.3296 - accuracy: 0.6618 - val_loss: 1.3919 - val_accuracy: 0.6536\n",
            "Epoch 52/70\n",
            "359/359 [==============================] - 23s 63ms/step - loss: 1.3296 - accuracy: 0.6656 - val_loss: 1.4006 - val_accuracy: 0.6459\n",
            "Epoch 53/70\n",
            "359/359 [==============================] - 23s 64ms/step - loss: 1.3204 - accuracy: 0.6652 - val_loss: 1.3272 - val_accuracy: 0.6788\n",
            "Epoch 54/70\n",
            "359/359 [==============================] - 23s 63ms/step - loss: 1.3225 - accuracy: 0.6672 - val_loss: 1.3652 - val_accuracy: 0.6620\n",
            "Epoch 55/70\n",
            "359/359 [==============================] - 22s 61ms/step - loss: 1.3291 - accuracy: 0.6646 - val_loss: 1.3245 - val_accuracy: 0.6634\n",
            "Epoch 56/70\n",
            "359/359 [==============================] - 22s 63ms/step - loss: 1.3229 - accuracy: 0.6661 - val_loss: 1.3384 - val_accuracy: 0.6739\n",
            "Epoch 57/70\n",
            "359/359 [==============================] - 23s 63ms/step - loss: 1.3201 - accuracy: 0.6700 - val_loss: 1.3224 - val_accuracy: 0.6802\n",
            "Epoch 58/70\n",
            "359/359 [==============================] - 22s 60ms/step - loss: 1.3142 - accuracy: 0.6715 - val_loss: 1.3655 - val_accuracy: 0.6599\n",
            "Epoch 59/70\n",
            "359/359 [==============================] - 23s 63ms/step - loss: 1.3094 - accuracy: 0.6763 - val_loss: 1.3243 - val_accuracy: 0.6739\n",
            "Epoch 60/70\n",
            "359/359 [==============================] - 23s 63ms/step - loss: 1.3091 - accuracy: 0.6728 - val_loss: 1.3777 - val_accuracy: 0.6648\n",
            "Epoch 61/70\n",
            "359/359 [==============================] - 23s 64ms/step - loss: 1.3072 - accuracy: 0.6752 - val_loss: 1.3342 - val_accuracy: 0.6788\n",
            "Epoch 62/70\n",
            "359/359 [==============================] - 22s 62ms/step - loss: 1.3091 - accuracy: 0.6756 - val_loss: 1.3584 - val_accuracy: 0.6760\n",
            "Epoch 63/70\n",
            "359/359 [==============================] - 22s 60ms/step - loss: 1.3074 - accuracy: 0.6786 - val_loss: 1.3888 - val_accuracy: 0.6634\n",
            "Epoch 64/70\n",
            "359/359 [==============================] - 22s 62ms/step - loss: 1.3057 - accuracy: 0.6812 - val_loss: 1.3426 - val_accuracy: 0.6774\n",
            "Epoch 65/70\n",
            "359/359 [==============================] - 22s 62ms/step - loss: 1.2997 - accuracy: 0.6808 - val_loss: 1.3552 - val_accuracy: 0.6655\n",
            "Epoch 66/70\n",
            "359/359 [==============================] - 23s 63ms/step - loss: 1.2948 - accuracy: 0.6828 - val_loss: 1.3744 - val_accuracy: 0.6774\n",
            "Epoch 67/70\n",
            "359/359 [==============================] - 23s 64ms/step - loss: 1.3039 - accuracy: 0.6842 - val_loss: 1.3757 - val_accuracy: 0.6606\n",
            "Epoch 68/70\n",
            "359/359 [==============================] - 22s 60ms/step - loss: 1.3189 - accuracy: 0.6820 - val_loss: 1.3494 - val_accuracy: 0.6704\n",
            "Epoch 69/70\n",
            "359/359 [==============================] - 22s 62ms/step - loss: 1.3046 - accuracy: 0.6841 - val_loss: 1.3247 - val_accuracy: 0.6892\n",
            "Epoch 70/70\n",
            "359/359 [==============================] - 23s 63ms/step - loss: 1.3013 - accuracy: 0.6859 - val_loss: 1.3692 - val_accuracy: 0.6697\n"
          ]
        }
      ]
    },
    {
      "cell_type": "code",
      "source": [
        "model.save('emotion.h5')"
      ],
      "metadata": {
        "id": "p0v7zRBq6D1f"
      },
      "execution_count": 19,
      "outputs": []
    },
    {
      "cell_type": "code",
      "source": [
        "fig , ax = plt.subplots(1,2)\n",
        "train_acc = history.history['accuracy']\n",
        "train_loss = history.history['loss']\n",
        "fig.set_size_inches(12,4)\n",
        "\n",
        "ax[0].plot(history.history['accuracy'])\n",
        "ax[0].plot(history.history['val_accuracy'])\n",
        "ax[0].set_title('Training Accuracy vs Validation Accuracy')\n",
        "ax[0].set_ylabel('Accuracy')\n",
        "ax[0].set_xlabel('Epoch')\n",
        "ax[0].legend(['Train', 'Validation'], loc='upper left')\n",
        "\n",
        "ax[1].plot(history.history['loss'])\n",
        "ax[1].plot(history.history['val_loss'])\n",
        "ax[1].set_title('Training Loss vs Validation Loss')\n",
        "ax[1].set_ylabel('Loss')\n",
        "ax[1].set_xlabel('Epoch')\n",
        "ax[1].legend(['Train', 'Validation'], loc='upper left')\n",
        "\n",
        "plt.show()"
      ],
      "metadata": {
        "colab": {
          "base_uri": "https://localhost:8080/",
          "height": 410
        },
        "id": "vImuia4iCkm5",
        "outputId": "ed016113-9775-478d-f3f8-351d3b334bd1"
      },
      "execution_count": 20,
      "outputs": [
        {
          "output_type": "display_data",
          "data": {
            "text/plain": [
              "<Figure size 1200x400 with 2 Axes>"
            ],
            "image/png": "[encoded data removed]"
          },
          "metadata": {}
        }
      ]
    },
    {
      "cell_type": "markdown",
      "source": [
        "#Testing the model"
      ],
      "metadata": {
        "id": "Cp2YPz68HrgX"
      }
    },
    {
      "cell_type": "code",
      "source": [
        "model.input_shape"
      ],
      "metadata": {
        "colab": {
          "base_uri": "https://localhost:8080/"
        },
        "id": "z-cVr2NxHxb5",
        "outputId": "7d601eb7-3838-47fe-84c6-33079fa20e6d"
      },
      "execution_count": 59,
      "outputs": [
        {
          "output_type": "execute_result",
          "data": {
            "text/plain": [
              "(None, 48, 48, 1)"
            ]
          },
          "metadata": {},
          "execution_count": 59
        }
      ]
    },
    {
      "cell_type": "code",
      "source": [
        "label_dict = {0:'Angry',1:'Disgust',2:'Fear',3:'Happy',4:'Neutral',5:'Sad',6:'Surprise'}"
      ],
      "metadata": {
        "id": "62AuDAuRDdC3"
      },
      "execution_count": 33,
      "outputs": []
    },
    {
      "cell_type": "code",
      "source": [
        "import cv2\n",
        "import numpy as np\n",
        "import matplotlib.pyplot as plt\n",
        "from tensorflow.keras.preprocessing.image import load_img\n",
        "\n",
        "img_path = '/content/angry.jpg'\n",
        "img = load_img(img_path, target_size=(48, 48), color_mode=\"grayscale\")\n",
        "img = np.array(img)\n",
        "img = img.reshape(1, 48, 48, 1)\n",
        "\n",
        "plt.imshow(img.squeeze(), cmap='gray')  # Use .squeeze() to remove the single dimension for display\n",
        "plt.show()\n",
        "\n",
        "print(img.shape)\n",
        "\n",
        "result = model.predict(img, verbose=0)\n",
        "result = list(result[0])\n",
        "print(result)"
      ],
      "metadata": {
        "colab": {
          "base_uri": "https://localhost:8080/",
          "height": 466
        },
        "id": "unX0KupdCwNW",
        "outputId": "8a15c5ee-74c4-44a6-87e3-d7a08784d822"
      },
      "execution_count": 57,
      "outputs": [
        {
          "output_type": "display_data",
          "data": {
            "text/plain": [
              "<Figure size 640x480 with 1 Axes>"
            ],
            "image/png": "[encoded data removed]"
          },
          "metadata": {}
        },
        {
          "output_type": "stream",
          "name": "stdout",
          "text": [
            "(1, 48, 48, 1)\n",
            "[1.4559464e-30, 0.0, 1.0, 0.0, 0.0, 0.0, 0.0]\n"
          ]
        }
      ]
    },
    {
      "cell_type": "code",
      "source": [
        "img_index = result.index(max(result))\n",
        "print(label_dict[img_index])"
      ],
      "metadata": {
        "colab": {
          "base_uri": "https://localhost:8080/"
        },
        "id": "tTaWmFm0FoIY",
        "outputId": "1e638dd7-a52f-46b3-958d-83c7868f6051"
      },
      "execution_count": 58,
      "outputs": [
        {
          "output_type": "stream",
          "name": "stdout",
          "text": [
            "Fear\n"
          ]
        }
      ]
    }
  ]
}